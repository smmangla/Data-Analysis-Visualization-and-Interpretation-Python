{
  "nbformat": 4,
  "nbformat_minor": 0,
  "metadata": {
    "colab": {
      "name": "Real_Estate_Sales_Connecticut.ipynb",
      "provenance": [],
      "collapsed_sections": []
    },
    "kernelspec": {
      "name": "python3",
      "display_name": "Python 3"
    }
  },
  "cells": [
    {
      "cell_type": "markdown",
      "metadata": {
        "colab_type": "text",
        "id": "cPvq9FxhJSEF"
      },
      "source": [
        "# Data Analysis, Visualization and Interpretation\n",
        "Author: Smridhi Mangla"
      ]
    },
    {
      "cell_type": "code",
      "metadata": {
        "id": "_8yILO-COG17",
        "colab_type": "code",
        "outputId": "7ae8d746-d56f-48a2-9bf4-c08e2d9c7cc4",
        "colab": {
          "base_uri": "https://localhost:8080/",
          "height": 33
        }
      },
      "source": [
        "#load file\n",
        "from google.colab import drive\n",
        "drive.mount('/content/drive')"
      ],
      "execution_count": 10,
      "outputs": [
        {
          "output_type": "stream",
          "text": [
            "Drive already mounted at /content/drive; to attempt to forcibly remount, call drive.mount(\"/content/drive\", force_remount=True).\n"
          ],
          "name": "stdout"
        }
      ]
    },
    {
      "cell_type": "code",
      "metadata": {
        "id": "1KMXGUg16VKQ",
        "colab_type": "code",
        "colab": {}
      },
      "source": [
        "import pandas as pd\n",
        "import numpy as np\n",
        "import matplotlib.pyplot as plt"
      ],
      "execution_count": 0,
      "outputs": []
    },
    {
      "cell_type": "code",
      "metadata": {
        "id": "Eob-pTcliQGe",
        "colab_type": "code",
        "colab": {}
      },
      "source": [
        "#load real estate sales dataset\n",
        "df_real_estate_sales = pd.read_csv(\"/content/drive/My Drive/Data Science with Python Spring2020/week1_22jan2020/assignment1/Real_Estate_Sales_2014-2016.csv\")"
      ],
      "execution_count": 0,
      "outputs": []
    },
    {
      "cell_type": "code",
      "metadata": {
        "id": "pjDrHPyljwWE",
        "colab_type": "code",
        "outputId": "cb160008-8de3-451a-d705-d8534b4cfae3",
        "colab": {
          "base_uri": "https://localhost:8080/",
          "height": 619
        }
      },
      "source": [
        "## Summarize Data\n",
        "\n",
        "# Descriptive statistics\n",
        "# shape\n",
        "print(df_real_estate_sales.shape)\n",
        "# types\n",
        "print(df_real_estate_sales.dtypes)\n",
        "# head\n",
        "print(df_real_estate_sales.head(20))"
      ],
      "execution_count": 13,
      "outputs": [
        {
          "output_type": "stream",
          "text": [
            "(145987, 11)\n",
            "ID                   int64\n",
            "SerialNumber         int64\n",
            "ListYear             int64\n",
            "DateRecorded        object\n",
            "Town                object\n",
            "Address             object\n",
            "AssessedValue        int64\n",
            "SaleAmount         float64\n",
            "SalesRatio         float64\n",
            "PropertyType        object\n",
            "ResidentialType     object\n",
            "dtype: object\n",
            "    ID  SerialNumber  ListYear  ... SalesRatio PropertyType ResidentialType\n",
            "0    1         14046      2014  ...   0.142933  Vacant Land             NaN\n",
            "1    2         14011      2014  ...   0.805789  Residential   Single Family\n",
            "2    3         15006      2015  ...   2.058000  Residential   Single Family\n",
            "3    4         14044      2014  ...   0.846784  Residential   Single Family\n",
            "4    5         14035      2014  ...   0.713043  Residential   Single Family\n",
            "5    6         15051      2015  ...   0.833628  Residential   Single Family\n",
            "6    7         14002      2014  ...   1.862500  Residential   Single Family\n",
            "7    8         15011      2015  ...   0.640433  Residential   Single Family\n",
            "8    9         14043      2014  ...   4.763636  Residential   Single Family\n",
            "9   10         14029      2014  ...   7.807220  Residential   Single Family\n",
            "10  11         14024      2014  ...   0.832827  Residential   Single Family\n",
            "11  12         14030      2014  ...   0.653333  Vacant Land             NaN\n",
            "12  13         15024      2015  ...   0.539200  Residential   Single Family\n",
            "13  14         14023      2014  ...   0.666667  Residential   Single Family\n",
            "14  15         15038      2015  ...   1.392784  Residential   Single Family\n",
            "15  16         14037      2014  ...   0.656044  Residential   Single Family\n",
            "16  17         15026      2015  ...   0.833333  Residential   Single Family\n",
            "17  18         15029      2015  ...   0.675780  Residential   Single Family\n",
            "18  19         14008      2014  ...   0.880658  Vacant Land             NaN\n",
            "19  20         15004      2015  ...   0.764286  Vacant Land             NaN\n",
            "\n",
            "[20 rows x 11 columns]\n"
          ],
          "name": "stdout"
        }
      ]
    },
    {
      "cell_type": "code",
      "metadata": {
        "id": "TpVVraZuipve",
        "colab_type": "code",
        "colab": {}
      },
      "source": [
        "#load list of towns dataset\n",
        "df_list_of_towns = pd.read_csv(\"/content/drive/My Drive/Data Science with Python Spring2020/week1_22jan2020/assignment1/List_of_Towns.csv\")"
      ],
      "execution_count": 0,
      "outputs": []
    },
    {
      "cell_type": "code",
      "metadata": {
        "id": "Kg2s1ASOh-19",
        "colab_type": "code",
        "outputId": "c005d662-47ac-4049-d0d1-b1ba09fb84ce",
        "colab": {
          "base_uri": "https://localhost:8080/",
          "height": 552
        }
      },
      "source": [
        "## Summarize Data\n",
        "\n",
        "# Descriptive statistics\n",
        "# shape\n",
        "print(df_list_of_towns.shape)\n",
        "# types\n",
        "print(df_list_of_towns.dtypes)\n",
        "# head\n",
        "print(df_list_of_towns.head(20))"
      ],
      "execution_count": 15,
      "outputs": [
        {
          "output_type": "stream",
          "text": [
            "(169, 7)\n",
            "Number                        int64\n",
            "Town                         object\n",
            "Designation                  object\n",
            "Established Year              int64\n",
            "Land area (square miles)    float64\n",
            "Population (in 2010)         object\n",
            "County                       object\n",
            "dtype: object\n",
            "    Number          Town  ... Population (in 2010)             County\n",
            "0        1       Andover  ...                3,303     Tolland County\n",
            "1        2       Ansonia  ...               19,249   New Haven County\n",
            "2        3       Ashford  ...                4,100     Windham County\n",
            "3        4          Avon  ...               18,098    Hartford County\n",
            "4        5   Barkhamsted  ...                3,620  Litchfield County\n",
            "5        6  Beacon Falls  ...                6,049   New Haven County\n",
            "6        7        Berlin  ...               19,866    Hartford County\n",
            "7        8       Bethany  ...                5,563   New Haven County\n",
            "8        9        Bethel  ...               18,584   Fairfield County\n",
            "9       10     Bethlehem  ...                3,607  Litchfield County\n",
            "10      11    Bloomfield  ...               20,486    Hartford County\n",
            "11      12        Bolton  ...                4,980     Tolland County\n",
            "12      13        Bozrah  ...                2,627  New London County\n",
            "13      14      Branford  ...               28,026   New Haven County\n",
            "14      15    Bridgeport  ...              144,229   Fairfield County\n",
            "15      16   Bridgewater  ...                1,727  Litchfield County\n",
            "16      17       Bristol  ...               60,477    Hartford County\n",
            "17      18    Brookfield  ...               16,452   Fairfield County\n",
            "18      19      Brooklyn  ...                8,210     Windham County\n",
            "19      20    Burlington  ...                9,301    Hartford County\n",
            "\n",
            "[20 rows x 7 columns]\n"
          ],
          "name": "stdout"
        }
      ]
    },
    {
      "cell_type": "code",
      "metadata": {
        "id": "C3fSP_l4dyPQ",
        "colab_type": "code",
        "colab": {}
      },
      "source": [
        "# merge List of Towns file and Real Estate Sales file\n",
        "df_result = pd.merge(df_real_estate_sales,\n",
        "                    df_list_of_towns,\n",
        "                    on='Town')"
      ],
      "execution_count": 0,
      "outputs": []
    },
    {
      "cell_type": "code",
      "metadata": {
        "id": "8KxZLQs9pUX3",
        "colab_type": "code",
        "outputId": "ff447e75-8c3d-4542-c31a-f0faf96dc733",
        "colab": {
          "base_uri": "https://localhost:8080/",
          "height": 318
        }
      },
      "source": [
        "#find missing values\n",
        "missing_values = df_result.isnull().sum(axis=0)\n",
        "missing_values"
      ],
      "execution_count": 17,
      "outputs": [
        {
          "output_type": "execute_result",
          "data": {
            "text/plain": [
              "ID                              0\n",
              "SerialNumber                    0\n",
              "ListYear                        0\n",
              "DateRecorded                    6\n",
              "Town                            0\n",
              "Address                         2\n",
              "AssessedValue                   0\n",
              "SaleAmount                   5283\n",
              "SalesRatio                      0\n",
              "PropertyType                    0\n",
              "ResidentialType             11905\n",
              "Number                          0\n",
              "Designation                     0\n",
              "Established Year                0\n",
              "Land area (square miles)        0\n",
              "Population (in 2010)            0\n",
              "County                          0\n",
              "dtype: int64"
            ]
          },
          "metadata": {
            "tags": []
          },
          "execution_count": 17
        }
      ]
    },
    {
      "cell_type": "code",
      "metadata": {
        "id": "zBqA53fxvwjF",
        "colab_type": "code",
        "outputId": "c03e771e-85f3-45ed-aa48-224d4129f1ef",
        "colab": {
          "base_uri": "https://localhost:8080/",
          "height": 318
        }
      },
      "source": [
        "#Replacing missing date recorded data with the corresponding year in ListYear column.\n",
        "#df_result['DateRecorded'] = df_result['DateRecorded'].astype(str)\n",
        "df_result['DateRecorded'].fillna('1/1/2014', inplace = True)\n",
        "missing_values = df_result.isnull().sum(axis=0)\n",
        "missing_values"
      ],
      "execution_count": 18,
      "outputs": [
        {
          "output_type": "execute_result",
          "data": {
            "text/plain": [
              "ID                              0\n",
              "SerialNumber                    0\n",
              "ListYear                        0\n",
              "DateRecorded                    0\n",
              "Town                            0\n",
              "Address                         2\n",
              "AssessedValue                   0\n",
              "SaleAmount                   5283\n",
              "SalesRatio                      0\n",
              "PropertyType                    0\n",
              "ResidentialType             11905\n",
              "Number                          0\n",
              "Designation                     0\n",
              "Established Year                0\n",
              "Land area (square miles)        0\n",
              "Population (in 2010)            0\n",
              "County                          0\n",
              "dtype: int64"
            ]
          },
          "metadata": {
            "tags": []
          },
          "execution_count": 18
        }
      ]
    },
    {
      "cell_type": "code",
      "metadata": {
        "id": "q6XgaEoj1bmK",
        "colab_type": "code",
        "outputId": "18ad8aa0-d61d-4ac8-c4c9-602d6e6a5595",
        "colab": {
          "base_uri": "https://localhost:8080/",
          "height": 318
        }
      },
      "source": [
        "#Replacing missing Sales Amount data with the corresponding assessed value column\n",
        "df_result['SaleAmount'].fillna(df_result['AssessedValue'], inplace = True)\n",
        "missing_values = df_result.isnull().sum(axis=0)\n",
        "missing_values"
      ],
      "execution_count": 19,
      "outputs": [
        {
          "output_type": "execute_result",
          "data": {
            "text/plain": [
              "ID                              0\n",
              "SerialNumber                    0\n",
              "ListYear                        0\n",
              "DateRecorded                    0\n",
              "Town                            0\n",
              "Address                         2\n",
              "AssessedValue                   0\n",
              "SaleAmount                      0\n",
              "SalesRatio                      0\n",
              "PropertyType                    0\n",
              "ResidentialType             11905\n",
              "Number                          0\n",
              "Designation                     0\n",
              "Established Year                0\n",
              "Land area (square miles)        0\n",
              "Population (in 2010)            0\n",
              "County                          0\n",
              "dtype: int64"
            ]
          },
          "metadata": {
            "tags": []
          },
          "execution_count": 19
        }
      ]
    },
    {
      "cell_type": "code",
      "metadata": {
        "id": "_pIZkDuK8mGg",
        "colab_type": "code",
        "outputId": "53720098-a207-47e8-f98b-1fac9240343e",
        "colab": {
          "base_uri": "https://localhost:8080/",
          "height": 100
        }
      },
      "source": [
        "#Make a column “Property Value” \n",
        "#Binning AssessedValue given the conditions: \n",
        "#'LowRange' if Assessed Value <=300,000 \n",
        "#'MidRange' if Assessed Value >300,000 and <=800,000 \n",
        "#'HighRange' if Assessed Value >800,000\n",
        "df_result['Property Value'] = pd.cut(df_result['AssessedValue'], bins=[-100000,300000,800000,1000000000], labels=['LowRange','MidRange','HighRange'])\n",
        "df_result.groupby('Property Value').size()\n"
      ],
      "execution_count": 20,
      "outputs": [
        {
          "output_type": "execute_result",
          "data": {
            "text/plain": [
              "Property Value\n",
              "LowRange     120076\n",
              "MidRange      19486\n",
              "HighRange      6425\n",
              "dtype: int64"
            ]
          },
          "metadata": {
            "tags": []
          },
          "execution_count": 20
        }
      ]
    },
    {
      "cell_type": "code",
      "metadata": {
        "id": "Bv1L3SGexpDg",
        "colab_type": "code",
        "outputId": "16ab10e2-5d35-41ba-d908-5443d7ae2d79",
        "colab": {
          "base_uri": "https://localhost:8080/",
          "height": 302
        }
      },
      "source": [
        "#removing , from population\n",
        "df_result['Population (in 2010)'] = df_result['Population (in 2010)'].str.replace(',','')\n",
        "df_result['Population (in 2010)'] = df_result['Population (in 2010)'].astype(int)\n",
        "\n",
        "#descriptive statistics\n",
        "df_result.describe()"
      ],
      "execution_count": 21,
      "outputs": [
        {
          "output_type": "execute_result",
          "data": {
            "text/html": [
              "<div>\n",
              "<style scoped>\n",
              "    .dataframe tbody tr th:only-of-type {\n",
              "        vertical-align: middle;\n",
              "    }\n",
              "\n",
              "    .dataframe tbody tr th {\n",
              "        vertical-align: top;\n",
              "    }\n",
              "\n",
              "    .dataframe thead th {\n",
              "        text-align: right;\n",
              "    }\n",
              "</style>\n",
              "<table border=\"1\" class=\"dataframe\">\n",
              "  <thead>\n",
              "    <tr style=\"text-align: right;\">\n",
              "      <th></th>\n",
              "      <th>ID</th>\n",
              "      <th>SerialNumber</th>\n",
              "      <th>ListYear</th>\n",
              "      <th>AssessedValue</th>\n",
              "      <th>SaleAmount</th>\n",
              "      <th>SalesRatio</th>\n",
              "      <th>Number</th>\n",
              "      <th>Established Year</th>\n",
              "      <th>Land area (square miles)</th>\n",
              "      <th>Population (in 2010)</th>\n",
              "    </tr>\n",
              "  </thead>\n",
              "  <tbody>\n",
              "    <tr>\n",
              "      <th>count</th>\n",
              "      <td>145987.000000</td>\n",
              "      <td>1.459870e+05</td>\n",
              "      <td>145987.000000</td>\n",
              "      <td>1.459870e+05</td>\n",
              "      <td>1.459870e+05</td>\n",
              "      <td>145987.000000</td>\n",
              "      <td>145987.000000</td>\n",
              "      <td>145987.000000</td>\n",
              "      <td>145987.000000</td>\n",
              "      <td>145987.000000</td>\n",
              "    </tr>\n",
              "    <tr>\n",
              "      <th>mean</th>\n",
              "      <td>72994.000000</td>\n",
              "      <td>2.645845e+05</td>\n",
              "      <td>2015.001438</td>\n",
              "      <td>3.105082e+05</td>\n",
              "      <td>4.119349e+05</td>\n",
              "      <td>2.437448</td>\n",
              "      <td>90.978786</td>\n",
              "      <td>1747.667573</td>\n",
              "      <td>28.606906</td>\n",
              "      <td>44023.432586</td>\n",
              "    </tr>\n",
              "    <tr>\n",
              "      <th>std</th>\n",
              "      <td>42142.961211</td>\n",
              "      <td>1.174402e+06</td>\n",
              "      <td>0.824892</td>\n",
              "      <td>1.546245e+06</td>\n",
              "      <td>3.376906e+06</td>\n",
              "      <td>51.834706</td>\n",
              "      <td>47.549466</td>\n",
              "      <td>78.490692</td>\n",
              "      <td>11.792604</td>\n",
              "      <td>36516.747704</td>\n",
              "    </tr>\n",
              "    <tr>\n",
              "      <th>min</th>\n",
              "      <td>1.000000</td>\n",
              "      <td>1.610000e+02</td>\n",
              "      <td>2014.000000</td>\n",
              "      <td>0.000000e+00</td>\n",
              "      <td>0.000000e+00</td>\n",
              "      <td>0.000000</td>\n",
              "      <td>1.000000</td>\n",
              "      <td>1633.000000</td>\n",
              "      <td>4.980000</td>\n",
              "      <td>854.000000</td>\n",
              "    </tr>\n",
              "    <tr>\n",
              "      <th>25%</th>\n",
              "      <td>36497.500000</td>\n",
              "      <td>1.401250e+05</td>\n",
              "      <td>2014.000000</td>\n",
              "      <td>1.038650e+05</td>\n",
              "      <td>1.289000e+05</td>\n",
              "      <td>0.619862</td>\n",
              "      <td>51.000000</td>\n",
              "      <td>1670.000000</td>\n",
              "      <td>18.850000</td>\n",
              "      <td>18062.000000</td>\n",
              "    </tr>\n",
              "    <tr>\n",
              "      <th>50%</th>\n",
              "      <td>72994.000000</td>\n",
              "      <td>1.501020e+05</td>\n",
              "      <td>2015.000000</td>\n",
              "      <td>1.547000e+05</td>\n",
              "      <td>2.150000e+05</td>\n",
              "      <td>0.709333</td>\n",
              "      <td>93.000000</td>\n",
              "      <td>1771.000000</td>\n",
              "      <td>28.060000</td>\n",
              "      <td>29257.000000</td>\n",
              "    </tr>\n",
              "    <tr>\n",
              "      <th>75%</th>\n",
              "      <td>109490.500000</td>\n",
              "      <td>1.601300e+05</td>\n",
              "      <td>2016.000000</td>\n",
              "      <td>2.434600e+05</td>\n",
              "      <td>3.500000e+05</td>\n",
              "      <td>0.884500</td>\n",
              "      <td>135.000000</td>\n",
              "      <td>1820.000000</td>\n",
              "      <td>37.750000</td>\n",
              "      <td>60477.000000</td>\n",
              "    </tr>\n",
              "    <tr>\n",
              "      <th>max</th>\n",
              "      <td>145987.000000</td>\n",
              "      <td>1.400028e+08</td>\n",
              "      <td>2016.000000</td>\n",
              "      <td>1.389588e+08</td>\n",
              "      <td>3.955000e+08</td>\n",
              "      <td>4516.083916</td>\n",
              "      <td>169.000000</td>\n",
              "      <td>1921.000000</td>\n",
              "      <td>61.590000</td>\n",
              "      <td>144229.000000</td>\n",
              "    </tr>\n",
              "  </tbody>\n",
              "</table>\n",
              "</div>"
            ],
            "text/plain": [
              "                  ID  ...  Population (in 2010)\n",
              "count  145987.000000  ...         145987.000000\n",
              "mean    72994.000000  ...          44023.432586\n",
              "std     42142.961211  ...          36516.747704\n",
              "min         1.000000  ...            854.000000\n",
              "25%     36497.500000  ...          18062.000000\n",
              "50%     72994.000000  ...          29257.000000\n",
              "75%    109490.500000  ...          60477.000000\n",
              "max    145987.000000  ...         144229.000000\n",
              "\n",
              "[8 rows x 10 columns]"
            ]
          },
          "metadata": {
            "tags": []
          },
          "execution_count": 21
        }
      ]
    },
    {
      "cell_type": "code",
      "metadata": {
        "id": "XeUsooZCmO6k",
        "colab_type": "code",
        "outputId": "b5214967-86d1-4ed5-e9ea-b582c44c9d6c",
        "colab": {
          "base_uri": "https://localhost:8080/",
          "height": 294
        }
      },
      "source": [
        "#Data visualization for Sales Amount using histogram\n",
        "subData_SA = df_result[df_result['SaleAmount']<1500000]\n",
        "subData_SA.hist('SaleAmount')\n",
        "plt.show()\n",
        "\n",
        "##########################################\n",
        "#most of the sales are less 1500000"
      ],
      "execution_count": 22,
      "outputs": [
        {
          "output_type": "display_data",
          "data": {
            "image/png": "[encoded data removed]",
            "text/plain": [
              "<Figure size 432x288 with 1 Axes>"
            ]
          },
          "metadata": {
            "tags": []
          }
        }
      ]
    },
    {
      "cell_type": "code",
      "metadata": {
        "id": "NbrIFH4AhAtJ",
        "colab_type": "code",
        "outputId": "ae857ecc-d29a-42c6-845c-9b45a3298423",
        "colab": {
          "base_uri": "https://localhost:8080/",
          "height": 307
        }
      },
      "source": [
        "#Data visualization for Property Type and Sale Amount using scatter plot\n",
        "plt.scatter(df_result.PropertyType,df_result.SaleAmount) \n",
        "plt.xlabel('Property Type')\n",
        "plt.ylabel('Sale Amount')\n",
        "\n",
        "###################################################\n",
        "# We can observe huge variation in the prices for ‘Commercial’ and ‘Apartments’ property type "
      ],
      "execution_count": 23,
      "outputs": [
        {
          "output_type": "execute_result",
          "data": {
            "text/plain": [
              "Text(0, 0.5, 'Sale Amount')"
            ]
          },
          "metadata": {
            "tags": []
          },
          "execution_count": 23
        },
        {
          "output_type": "display_data",
          "data": {
            "image/png": "[encoded data removed]",
            "text/plain": [
              "<Figure size 432x288 with 1 Axes>"
            ]
          },
          "metadata": {
            "tags": []
          }
        }
      ]
    },
    {
      "cell_type": "code",
      "metadata": {
        "id": "xqgQsN4DzwBV",
        "colab_type": "code",
        "outputId": "45990b27-44c0-413c-cd0e-8e61164ccee6",
        "colab": {
          "base_uri": "https://localhost:8080/",
          "height": 297
        }
      },
      "source": [
        "#Data visualization for list year using box plot, histogram, density plot\n",
        "import matplotlib.pyplot as plt\n",
        "import numpy as np\n",
        "import seaborn as sns\n",
        "\n",
        "#2 rows and 2columns\n",
        "fig, ax = plt.subplots(2,2)\n",
        "\n",
        "#density plot for ListYear\n",
        "sns.kdeplot(df_result.ListYear,\n",
        "            ax=ax[0,0]) \n",
        "ax[0,0].set_xlabel('ListYear')\n",
        "\n",
        "#histogram for ListYear\n",
        "ax[0,1].hist(df_result.ListYear, color='green')\n",
        "ax[0,1].set_xlabel('ListYear')\n",
        "ax[0,1].set_ylabel('Frequency')\n",
        "\n",
        "#boxplot for ListYear\n",
        "ax[1,0].boxplot(df_result.ListYear) \n",
        "ax[1,0].set_ylabel('ListYear')\n",
        "\n",
        "#overlapping density plot and histogram for ListYear\n",
        "sns.distplot(df_result.ListYear,ax=ax[1,1]) \n",
        "\n",
        "fig.tight_layout()\n",
        "plt.show()"
      ],
      "execution_count": 24,
      "outputs": [
        {
          "output_type": "display_data",
          "data": {
            "image/png": "[encoded data removed]",
            "text/plain": [
              "<Figure size 432x288 with 4 Axes>"
            ]
          },
          "metadata": {
            "tags": []
          }
        }
      ]
    },
    {
      "cell_type": "code",
      "metadata": {
        "id": "ZAs0_QWgdvZ4",
        "colab_type": "code",
        "outputId": "1655754e-225a-47bb-c1b5-ed4af92c5c2a",
        "colab": {
          "base_uri": "https://localhost:8080/",
          "height": 282
        }
      },
      "source": [
        "#Data visualization for Property Type using Bar Graph \n",
        "plt.hist(df_result.PropertyType)\n",
        "plt.xlabel('Property Type')\n",
        "plt.ylabel('Frequency')\n",
        "plt.show()\n"
      ],
      "execution_count": 25,
      "outputs": [
        {
          "output_type": "display_data",
          "data": {
            "image/png": "[encoded data removed]",
            "text/plain": [
              "<Figure size 432x288 with 1 Axes>"
            ]
          },
          "metadata": {
            "tags": []
          }
        }
      ]
    },
    {
      "cell_type": "code",
      "metadata": {
        "id": "uEKtehxodv8V",
        "colab_type": "code",
        "outputId": "d28e0ecc-ce2e-43c2-f34d-a2d376421b0e",
        "colab": {
          "base_uri": "https://localhost:8080/",
          "height": 312
        }
      },
      "source": [
        "# Data visualization for County using histogram\n",
        "x1 = list(df_result[df_result['County'] == 'Windham County']['Property Value']) \n",
        "x2 = list(df_result[df_result['County'] == 'Fairfield County']['Property Value']) \n",
        "x3 = list(df_result[df_result['County'] == 'Tolland County']['Property Value']) \n",
        "x4 = list(df_result[df_result['County'] == 'Hartford County']['Property Value']) \n",
        "x5 = list(df_result[df_result['County'] == 'Litchfield County']['Property Value']) \n",
        "x6 = list(df_result[df_result['County'] == 'Middlesex County']['Property Value']) \n",
        "x7 = list(df_result[df_result['County'] == 'New Haven County']['Property Value']) \n",
        "x8 = list(df_result[df_result['County'] == 'New London County']['Property Value']) \n",
        "\n",
        "#assigning colours and names \n",
        "colors = ['#E69F00', '#56B4E9', '#F0E442','#009E73', '#D55E00', '#9177D2', '#F882A1', '#FFEEEE'] \n",
        "#Text(0, 0.5, 'Frequency') \n",
        "names = ['Windham County','Fairfield County','Tolland County','Hartford County','Litchfield County','Middlesex County','New Haven County','New London County'] \n",
        "\n",
        "#plotting stacked histogram \n",
        "plt.hist([x1, x2, x3, x4, x5, x6, x7, x8], bins = int(180/15), stacked=True, color=colors,label=names)\n",
        "plt.legend() \n",
        "plt.xlabel('Property Value') \n",
        "plt.ylabel('No. of Properties') \n",
        "plt.title('Stacked Histogram with Multiple Counties') \n",
        "\n",
        "##########################################################################\n",
        "#Fairfield has the maximum number of High range properties. Owning properties in the Fairfield county is most profitable as they have the highest average AssessedValue.  \n",
        "#New Haven County has maximum Low range properties "
      ],
      "execution_count": 26,
      "outputs": [
        {
          "output_type": "execute_result",
          "data": {
            "text/plain": [
              "Text(0.5, 1.0, 'Stacked Histogram with Multiple Counties')"
            ]
          },
          "metadata": {
            "tags": []
          },
          "execution_count": 26
        },
        {
          "output_type": "display_data",
          "data": {
            "image/png": "[encoded data removed]",
            "text/plain": [
              "<Figure size 432x288 with 1 Axes>"
            ]
          },
          "metadata": {
            "tags": []
          }
        }
      ]
    },
    {
      "cell_type": "code",
      "metadata": {
        "id": "yLIosnHCZn8J",
        "colab_type": "code",
        "outputId": "daa8919d-d094-4234-c99d-a0207937587b",
        "colab": {
          "base_uri": "https://localhost:8080/",
          "height": 295
        }
      },
      "source": [
        "#Frequency table based on the average Assessed value of properties in each County\n",
        "subdataAV = df_result.groupby('County').agg({'AssessedValue': ['mean']})\n",
        "\n",
        "#Data visualization for Assessed value of County using histogram\n",
        "subdataAV.hist()\n",
        "plt.xlabel('Property Type')\n",
        "plt.ylabel('AssessedValue')\n",
        "plt.show()\n",
        "\n",
        "###############################################################\n",
        "# Owning properties in the Fairfield county is most profitable as they have the highest average AssessedValue. "
      ],
      "execution_count": 27,
      "outputs": [
        {
          "output_type": "display_data",
          "data": {
            "image/png": "[encoded data removed]",
            "text/plain": [
              "<Figure size 432x288 with 1 Axes>"
            ]
          },
          "metadata": {
            "tags": []
          }
        }
      ]
    },
    {
      "cell_type": "code",
      "metadata": {
        "id": "xGt1pu99gmAQ",
        "colab_type": "code",
        "colab": {
          "base_uri": "https://localhost:8080/",
          "height": 334
        },
        "outputId": "07eb304c-bc30-4ca2-c9b3-c45a04d852c1"
      },
      "source": [
        "df_result.dtypes"
      ],
      "execution_count": 29,
      "outputs": [
        {
          "output_type": "execute_result",
          "data": {
            "text/plain": [
              "ID                             int64\n",
              "SerialNumber                   int64\n",
              "ListYear                       int64\n",
              "DateRecorded                  object\n",
              "Town                          object\n",
              "Address                       object\n",
              "AssessedValue                  int64\n",
              "SaleAmount                   float64\n",
              "SalesRatio                   float64\n",
              "PropertyType                  object\n",
              "ResidentialType               object\n",
              "Number                         int64\n",
              "Designation                   object\n",
              "Established Year               int64\n",
              "Land area (square miles)     float64\n",
              "Population (in 2010)           int64\n",
              "County                        object\n",
              "Property Value              category\n",
              "dtype: object"
            ]
          },
          "metadata": {
            "tags": []
          },
          "execution_count": 29
        }
      ]
    },
    {
      "cell_type": "code",
      "metadata": {
        "id": "PWE-y18sYmXi",
        "colab_type": "code",
        "colab": {
          "base_uri": "https://localhost:8080/",
          "height": 100
        },
        "outputId": "f0b83fd4-20c2-448a-9b20-449fa241338c"
      },
      "source": [
        "#Frequency table based on the count of properties sold in each year.\n",
        "df_result.groupby('ListYear').size()\n",
        "\n",
        "#################################\n",
        "#Among 2014, 2015, 2016- 2016 has highest sales"
      ],
      "execution_count": 30,
      "outputs": [
        {
          "output_type": "execute_result",
          "data": {
            "text/plain": [
              "ListYear\n",
              "2014    49563\n",
              "2015    46651\n",
              "2016    49773\n",
              "dtype: int64"
            ]
          },
          "metadata": {
            "tags": []
          },
          "execution_count": 30
        }
      ]
    },
    {
      "cell_type": "code",
      "metadata": {
        "id": "uob3II1lbm15",
        "colab_type": "code",
        "colab": {
          "base_uri": "https://localhost:8080/",
          "height": 286
        },
        "outputId": "bd72fa5e-01b8-4914-ccfb-1da4fce1c1dc"
      },
      "source": [
        "#Frequency table based on the average sale amount and land area of properties in each property type\n",
        "subdataRT = df_result.groupby('PropertyType').agg({'SaleAmount': ['mean'],'Land area (square miles)': ['mean']})\n",
        "subdataRT\n",
        "\n",
        "###############################################################\n",
        "#Average sales amount for apartments was highest\n",
        "#Public Utility covers minimum land area"
      ],
      "execution_count": 31,
      "outputs": [
        {
          "output_type": "execute_result",
          "data": {
            "text/html": [
              "<div>\n",
              "<style scoped>\n",
              "    .dataframe tbody tr th:only-of-type {\n",
              "        vertical-align: middle;\n",
              "    }\n",
              "\n",
              "    .dataframe tbody tr th {\n",
              "        vertical-align: top;\n",
              "    }\n",
              "\n",
              "    .dataframe thead tr th {\n",
              "        text-align: left;\n",
              "    }\n",
              "\n",
              "    .dataframe thead tr:last-of-type th {\n",
              "        text-align: right;\n",
              "    }\n",
              "</style>\n",
              "<table border=\"1\" class=\"dataframe\">\n",
              "  <thead>\n",
              "    <tr>\n",
              "      <th></th>\n",
              "      <th>SaleAmount</th>\n",
              "      <th>Land area (square miles)</th>\n",
              "    </tr>\n",
              "    <tr>\n",
              "      <th></th>\n",
              "      <th>mean</th>\n",
              "      <th>mean</th>\n",
              "    </tr>\n",
              "    <tr>\n",
              "      <th>PropertyType</th>\n",
              "      <th></th>\n",
              "      <th></th>\n",
              "    </tr>\n",
              "  </thead>\n",
              "  <tbody>\n",
              "    <tr>\n",
              "      <th>Apartments</th>\n",
              "      <td>3.904337e+06</td>\n",
              "      <td>24.627549</td>\n",
              "    </tr>\n",
              "    <tr>\n",
              "      <th>Commercial</th>\n",
              "      <td>1.898054e+06</td>\n",
              "      <td>27.566583</td>\n",
              "    </tr>\n",
              "    <tr>\n",
              "      <th>Industrial</th>\n",
              "      <td>1.445131e+06</td>\n",
              "      <td>28.319151</td>\n",
              "    </tr>\n",
              "    <tr>\n",
              "      <th>Public Utility</th>\n",
              "      <td>7.433107e+05</td>\n",
              "      <td>22.816923</td>\n",
              "    </tr>\n",
              "    <tr>\n",
              "      <th>Residential</th>\n",
              "      <td>3.372912e+05</td>\n",
              "      <td>28.550319</td>\n",
              "    </tr>\n",
              "    <tr>\n",
              "      <th>Vacant Land</th>\n",
              "      <td>2.233891e+05</td>\n",
              "      <td>31.640937</td>\n",
              "    </tr>\n",
              "  </tbody>\n",
              "</table>\n",
              "</div>"
            ],
            "text/plain": [
              "                  SaleAmount Land area (square miles)\n",
              "                        mean                     mean\n",
              "PropertyType                                         \n",
              "Apartments      3.904337e+06                24.627549\n",
              "Commercial      1.898054e+06                27.566583\n",
              "Industrial      1.445131e+06                28.319151\n",
              "Public Utility  7.433107e+05                22.816923\n",
              "Residential     3.372912e+05                28.550319\n",
              "Vacant Land     2.233891e+05                31.640937"
            ]
          },
          "metadata": {
            "tags": []
          },
          "execution_count": 31
        }
      ]
    },
    {
      "cell_type": "code",
      "metadata": {
        "id": "g7H_S29_EL9B",
        "colab_type": "code",
        "colab": {
          "base_uri": "https://localhost:8080/",
          "height": 434
        },
        "outputId": "f5380757-a355-4837-9695-c0f107fe469e"
      },
      "source": [
        "# multidimensional frequency table using the dataset based on Town, County and list year.\n",
        "freq_table = pd.DataFrame(pd.crosstab([df_result.County, df_result.Town],\n",
        "                   df_result.ListYear, margins=True))\n",
        "freq_table"
      ],
      "execution_count": 32,
      "outputs": [
        {
          "output_type": "execute_result",
          "data": {
            "text/html": [
              "<div>\n",
              "<style scoped>\n",
              "    .dataframe tbody tr th:only-of-type {\n",
              "        vertical-align: middle;\n",
              "    }\n",
              "\n",
              "    .dataframe tbody tr th {\n",
              "        vertical-align: top;\n",
              "    }\n",
              "\n",
              "    .dataframe thead th {\n",
              "        text-align: right;\n",
              "    }\n",
              "</style>\n",
              "<table border=\"1\" class=\"dataframe\">\n",
              "  <thead>\n",
              "    <tr style=\"text-align: right;\">\n",
              "      <th></th>\n",
              "      <th>ListYear</th>\n",
              "      <th>2014</th>\n",
              "      <th>2015</th>\n",
              "      <th>2016</th>\n",
              "      <th>All</th>\n",
              "    </tr>\n",
              "    <tr>\n",
              "      <th>County</th>\n",
              "      <th>Town</th>\n",
              "      <th></th>\n",
              "      <th></th>\n",
              "      <th></th>\n",
              "      <th></th>\n",
              "    </tr>\n",
              "  </thead>\n",
              "  <tbody>\n",
              "    <tr>\n",
              "      <th rowspan=\"5\" valign=\"top\">Fairfield County</th>\n",
              "      <th>Bethel</th>\n",
              "      <td>356</td>\n",
              "      <td>370</td>\n",
              "      <td>352</td>\n",
              "      <td>1078</td>\n",
              "    </tr>\n",
              "    <tr>\n",
              "      <th>Bridgeport</th>\n",
              "      <td>1741</td>\n",
              "      <td>0</td>\n",
              "      <td>1953</td>\n",
              "      <td>3694</td>\n",
              "    </tr>\n",
              "    <tr>\n",
              "      <th>Brookfield</th>\n",
              "      <td>338</td>\n",
              "      <td>346</td>\n",
              "      <td>0</td>\n",
              "      <td>684</td>\n",
              "    </tr>\n",
              "    <tr>\n",
              "      <th>Danbury</th>\n",
              "      <td>1013</td>\n",
              "      <td>1127</td>\n",
              "      <td>1156</td>\n",
              "      <td>3296</td>\n",
              "    </tr>\n",
              "    <tr>\n",
              "      <th>Darien</th>\n",
              "      <td>453</td>\n",
              "      <td>345</td>\n",
              "      <td>408</td>\n",
              "      <td>1206</td>\n",
              "    </tr>\n",
              "    <tr>\n",
              "      <th>...</th>\n",
              "      <th>...</th>\n",
              "      <td>...</td>\n",
              "      <td>...</td>\n",
              "      <td>...</td>\n",
              "      <td>...</td>\n",
              "    </tr>\n",
              "    <tr>\n",
              "      <th rowspan=\"4\" valign=\"top\">Windham County</th>\n",
              "      <th>Sterling</th>\n",
              "      <td>63</td>\n",
              "      <td>82</td>\n",
              "      <td>88</td>\n",
              "      <td>233</td>\n",
              "    </tr>\n",
              "    <tr>\n",
              "      <th>Thompson</th>\n",
              "      <td>0</td>\n",
              "      <td>216</td>\n",
              "      <td>227</td>\n",
              "      <td>443</td>\n",
              "    </tr>\n",
              "    <tr>\n",
              "      <th>Windham</th>\n",
              "      <td>277</td>\n",
              "      <td>317</td>\n",
              "      <td>335</td>\n",
              "      <td>929</td>\n",
              "    </tr>\n",
              "    <tr>\n",
              "      <th>Woodstock</th>\n",
              "      <td>156</td>\n",
              "      <td>197</td>\n",
              "      <td>0</td>\n",
              "      <td>353</td>\n",
              "    </tr>\n",
              "    <tr>\n",
              "      <th>All</th>\n",
              "      <th></th>\n",
              "      <td>49563</td>\n",
              "      <td>46651</td>\n",
              "      <td>49773</td>\n",
              "      <td>145987</td>\n",
              "    </tr>\n",
              "  </tbody>\n",
              "</table>\n",
              "<p>170 rows × 4 columns</p>\n",
              "</div>"
            ],
            "text/plain": [
              "ListYear                      2014   2015   2016     All\n",
              "County           Town                                   \n",
              "Fairfield County Bethel        356    370    352    1078\n",
              "                 Bridgeport   1741      0   1953    3694\n",
              "                 Brookfield    338    346      0     684\n",
              "                 Danbury      1013   1127   1156    3296\n",
              "                 Darien        453    345    408    1206\n",
              "...                            ...    ...    ...     ...\n",
              "Windham County   Sterling       63     82     88     233\n",
              "                 Thompson        0    216    227     443\n",
              "                 Windham       277    317    335     929\n",
              "                 Woodstock     156    197      0     353\n",
              "All                          49563  46651  49773  145987\n",
              "\n",
              "[170 rows x 4 columns]"
            ]
          },
          "metadata": {
            "tags": []
          },
          "execution_count": 32
        }
      ]
    },
    {
      "cell_type": "code",
      "metadata": {
        "id": "wLR30tcQ_gH_",
        "colab_type": "code",
        "colab": {
          "base_uri": "https://localhost:8080/",
          "height": 166
        },
        "outputId": "371771a8-427d-44f7-a6d4-b564f8205252"
      },
      "source": [
        "#‘Property value’ based on the percentages of the row and an overall total of properties in each range.\n",
        "freq_table_prop_value = pd.crosstab(index=df_result['Property Value'],\n",
        "            columns=\"Number\", margins=True, margins_name='Total')\n",
        "freq_table_prop_value\n",
        "\n",
        "freq_table_prop_value.columns=['Count','Total']\n",
        "freq_table_prop_value.index=['LowRange','MidRange','HighRange','ColumnTotal']\n",
        "freq_table_prop_value\n",
        "\n",
        "freq_table_prop_value = (freq_table_prop_value/freq_table_prop_value.loc['ColumnTotal','Total'])*100\n",
        "freq_table_prop_value\n",
        "\n",
        "###################################################################\n",
        "#Low range properties constitute 82.25% of total properties sold"
      ],
      "execution_count": 33,
      "outputs": [
        {
          "output_type": "execute_result",
          "data": {
            "text/html": [
              "<div>\n",
              "<style scoped>\n",
              "    .dataframe tbody tr th:only-of-type {\n",
              "        vertical-align: middle;\n",
              "    }\n",
              "\n",
              "    .dataframe tbody tr th {\n",
              "        vertical-align: top;\n",
              "    }\n",
              "\n",
              "    .dataframe thead th {\n",
              "        text-align: right;\n",
              "    }\n",
              "</style>\n",
              "<table border=\"1\" class=\"dataframe\">\n",
              "  <thead>\n",
              "    <tr style=\"text-align: right;\">\n",
              "      <th></th>\n",
              "      <th>Count</th>\n",
              "      <th>Total</th>\n",
              "    </tr>\n",
              "  </thead>\n",
              "  <tbody>\n",
              "    <tr>\n",
              "      <th>LowRange</th>\n",
              "      <td>82.251159</td>\n",
              "      <td>82.251159</td>\n",
              "    </tr>\n",
              "    <tr>\n",
              "      <th>MidRange</th>\n",
              "      <td>13.347764</td>\n",
              "      <td>13.347764</td>\n",
              "    </tr>\n",
              "    <tr>\n",
              "      <th>HighRange</th>\n",
              "      <td>4.401077</td>\n",
              "      <td>4.401077</td>\n",
              "    </tr>\n",
              "    <tr>\n",
              "      <th>ColumnTotal</th>\n",
              "      <td>100.000000</td>\n",
              "      <td>100.000000</td>\n",
              "    </tr>\n",
              "  </tbody>\n",
              "</table>\n",
              "</div>"
            ],
            "text/plain": [
              "                  Count       Total\n",
              "LowRange      82.251159   82.251159\n",
              "MidRange      13.347764   13.347764\n",
              "HighRange      4.401077    4.401077\n",
              "ColumnTotal  100.000000  100.000000"
            ]
          },
          "metadata": {
            "tags": []
          },
          "execution_count": 33
        }
      ]
    }
  ]
}